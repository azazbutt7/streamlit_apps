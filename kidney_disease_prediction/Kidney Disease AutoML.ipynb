{
 "cells": [
  {
   "cell_type": "markdown",
   "id": "547be9d5",
   "metadata": {},
   "source": [
    "## Kidney Disease Identification Using AutoML\n",
    "We have already made an end-to-end machine learning model to identify kidney disease. In this notebook, we'll make a machine learning model by applying an AutoML Library, named as Eval ML, using Python."
   ]
  },
  {
   "cell_type": "code",
   "execution_count": 65,
   "id": "bcc47cf1",
   "metadata": {},
   "outputs": [],
   "source": [
    "import evalml\n",
    "from evalml.automl import AutoMLSearch\n",
    "import numpy as np\n",
    "import pandas as pd\n",
    "import seaborn as sns"
   ]
  },
  {
   "cell_type": "code",
   "execution_count": 66,
   "id": "11922ff2",
   "metadata": {},
   "outputs": [],
   "source": [
    "data = pd.read_csv('kidney_disease.csv')"
   ]
  },
  {
   "cell_type": "code",
   "execution_count": 67,
   "id": "5c581796",
   "metadata": {},
   "outputs": [
    {
     "data": {
      "text/html": [
       "<div>\n",
       "<style scoped>\n",
       "    .dataframe tbody tr th:only-of-type {\n",
       "        vertical-align: middle;\n",
       "    }\n",
       "\n",
       "    .dataframe tbody tr th {\n",
       "        vertical-align: top;\n",
       "    }\n",
       "\n",
       "    .dataframe thead th {\n",
       "        text-align: right;\n",
       "    }\n",
       "</style>\n",
       "<table border=\"1\" class=\"dataframe\">\n",
       "  <thead>\n",
       "    <tr style=\"text-align: right;\">\n",
       "      <th></th>\n",
       "      <th>id</th>\n",
       "      <th>age</th>\n",
       "      <th>bp</th>\n",
       "      <th>sg</th>\n",
       "      <th>al</th>\n",
       "      <th>su</th>\n",
       "      <th>rbc</th>\n",
       "      <th>pc</th>\n",
       "      <th>pcc</th>\n",
       "      <th>ba</th>\n",
       "      <th>...</th>\n",
       "      <th>pcv</th>\n",
       "      <th>wc</th>\n",
       "      <th>rc</th>\n",
       "      <th>htn</th>\n",
       "      <th>dm</th>\n",
       "      <th>cad</th>\n",
       "      <th>appet</th>\n",
       "      <th>pe</th>\n",
       "      <th>ane</th>\n",
       "      <th>classification</th>\n",
       "    </tr>\n",
       "  </thead>\n",
       "  <tbody>\n",
       "    <tr>\n",
       "      <th>0</th>\n",
       "      <td>0</td>\n",
       "      <td>48.0</td>\n",
       "      <td>80.0</td>\n",
       "      <td>1.020</td>\n",
       "      <td>1.0</td>\n",
       "      <td>0.0</td>\n",
       "      <td>NaN</td>\n",
       "      <td>normal</td>\n",
       "      <td>notpresent</td>\n",
       "      <td>notpresent</td>\n",
       "      <td>...</td>\n",
       "      <td>44</td>\n",
       "      <td>7800</td>\n",
       "      <td>5.2</td>\n",
       "      <td>yes</td>\n",
       "      <td>yes</td>\n",
       "      <td>no</td>\n",
       "      <td>good</td>\n",
       "      <td>no</td>\n",
       "      <td>no</td>\n",
       "      <td>ckd</td>\n",
       "    </tr>\n",
       "    <tr>\n",
       "      <th>1</th>\n",
       "      <td>1</td>\n",
       "      <td>7.0</td>\n",
       "      <td>50.0</td>\n",
       "      <td>1.020</td>\n",
       "      <td>4.0</td>\n",
       "      <td>0.0</td>\n",
       "      <td>NaN</td>\n",
       "      <td>normal</td>\n",
       "      <td>notpresent</td>\n",
       "      <td>notpresent</td>\n",
       "      <td>...</td>\n",
       "      <td>38</td>\n",
       "      <td>6000</td>\n",
       "      <td>NaN</td>\n",
       "      <td>no</td>\n",
       "      <td>no</td>\n",
       "      <td>no</td>\n",
       "      <td>good</td>\n",
       "      <td>no</td>\n",
       "      <td>no</td>\n",
       "      <td>ckd</td>\n",
       "    </tr>\n",
       "    <tr>\n",
       "      <th>2</th>\n",
       "      <td>2</td>\n",
       "      <td>62.0</td>\n",
       "      <td>80.0</td>\n",
       "      <td>1.010</td>\n",
       "      <td>2.0</td>\n",
       "      <td>3.0</td>\n",
       "      <td>normal</td>\n",
       "      <td>normal</td>\n",
       "      <td>notpresent</td>\n",
       "      <td>notpresent</td>\n",
       "      <td>...</td>\n",
       "      <td>31</td>\n",
       "      <td>7500</td>\n",
       "      <td>NaN</td>\n",
       "      <td>no</td>\n",
       "      <td>yes</td>\n",
       "      <td>no</td>\n",
       "      <td>poor</td>\n",
       "      <td>no</td>\n",
       "      <td>yes</td>\n",
       "      <td>ckd</td>\n",
       "    </tr>\n",
       "    <tr>\n",
       "      <th>3</th>\n",
       "      <td>3</td>\n",
       "      <td>48.0</td>\n",
       "      <td>70.0</td>\n",
       "      <td>1.005</td>\n",
       "      <td>4.0</td>\n",
       "      <td>0.0</td>\n",
       "      <td>normal</td>\n",
       "      <td>abnormal</td>\n",
       "      <td>present</td>\n",
       "      <td>notpresent</td>\n",
       "      <td>...</td>\n",
       "      <td>32</td>\n",
       "      <td>6700</td>\n",
       "      <td>3.9</td>\n",
       "      <td>yes</td>\n",
       "      <td>no</td>\n",
       "      <td>no</td>\n",
       "      <td>poor</td>\n",
       "      <td>yes</td>\n",
       "      <td>yes</td>\n",
       "      <td>ckd</td>\n",
       "    </tr>\n",
       "  </tbody>\n",
       "</table>\n",
       "<p>4 rows × 26 columns</p>\n",
       "</div>"
      ],
      "text/plain": [
       "   id   age    bp     sg   al   su     rbc        pc         pcc          ba  \\\n",
       "0   0  48.0  80.0  1.020  1.0  0.0     NaN    normal  notpresent  notpresent   \n",
       "1   1   7.0  50.0  1.020  4.0  0.0     NaN    normal  notpresent  notpresent   \n",
       "2   2  62.0  80.0  1.010  2.0  3.0  normal    normal  notpresent  notpresent   \n",
       "3   3  48.0  70.0  1.005  4.0  0.0  normal  abnormal     present  notpresent   \n",
       "\n",
       "   ...  pcv    wc   rc  htn   dm  cad appet   pe  ane classification  \n",
       "0  ...   44  7800  5.2  yes  yes   no  good   no   no            ckd  \n",
       "1  ...   38  6000  NaN   no   no   no  good   no   no            ckd  \n",
       "2  ...   31  7500  NaN   no  yes   no  poor   no  yes            ckd  \n",
       "3  ...   32  6700  3.9  yes   no   no  poor  yes  yes            ckd  \n",
       "\n",
       "[4 rows x 26 columns]"
      ]
     },
     "execution_count": 67,
     "metadata": {},
     "output_type": "execute_result"
    }
   ],
   "source": [
    "data.head(4)"
   ]
  },
  {
   "cell_type": "code",
   "execution_count": 68,
   "id": "07f05704",
   "metadata": {},
   "outputs": [
    {
     "data": {
      "text/plain": [
       "Index(['id', 'age', 'bp', 'sg', 'al', 'su', 'rbc', 'pc', 'pcc', 'ba', 'bgr',\n",
       "       'bu', 'sc', 'sod', 'pot', 'hemo', 'pcv', 'wc', 'rc', 'htn', 'dm', 'cad',\n",
       "       'appet', 'pe', 'ane', 'classification'],\n",
       "      dtype='object')"
      ]
     },
     "execution_count": 68,
     "metadata": {},
     "output_type": "execute_result"
    }
   ],
   "source": [
    "data.columns"
   ]
  },
  {
   "cell_type": "code",
   "execution_count": 70,
   "id": "d7fc03b3",
   "metadata": {},
   "outputs": [],
   "source": [
    "# data = data.drop('Unnamed: 0', axis=1)"
   ]
  },
  {
   "cell_type": "code",
   "execution_count": 71,
   "id": "47fffd0f",
   "metadata": {},
   "outputs": [
    {
     "data": {
      "text/plain": [
       "(400, 26)"
      ]
     },
     "execution_count": 71,
     "metadata": {},
     "output_type": "execute_result"
    }
   ],
   "source": [
    "data.shape"
   ]
  },
  {
   "cell_type": "code",
   "execution_count": 72,
   "id": "b7916ac0",
   "metadata": {},
   "outputs": [
    {
     "data": {
      "text/plain": [
       "array([  0,   9,  12,  47,  46,  49, 152,  65,   4,   4,  44,  19,  17,\n",
       "        87,  88,  52,  70, 105, 130,   2,   2,   2,   1,   1,   1,   0],\n",
       "      dtype=int64)"
      ]
     },
     "execution_count": 72,
     "metadata": {},
     "output_type": "execute_result"
    }
   ],
   "source": [
    "data.isnull().sum().to_numpy()"
   ]
  },
  {
   "cell_type": "code",
   "execution_count": 76,
   "id": "ef6dcc59",
   "metadata": {},
   "outputs": [
    {
     "data": {
      "text/plain": [
       "0    ckd\n",
       "1    ckd\n",
       "2    ckd\n",
       "3    ckd\n",
       "Name: classification, dtype: object"
      ]
     },
     "execution_count": 76,
     "metadata": {},
     "output_type": "execute_result"
    }
   ],
   "source": [
    "Y[:4]"
   ]
  },
  {
   "cell_type": "code",
   "execution_count": 78,
   "id": "08a3da5e",
   "metadata": {},
   "outputs": [
    {
     "data": {
      "text/plain": [
       "ckd       248\n",
       "notckd    150\n",
       "ckd\\t       2\n",
       "Name: classification, dtype: int64"
      ]
     },
     "execution_count": 78,
     "metadata": {},
     "output_type": "execute_result"
    }
   ],
   "source": [
    "data['classification'].value_counts()"
   ]
  },
  {
   "cell_type": "code",
   "execution_count": 79,
   "id": "2fa35f88",
   "metadata": {},
   "outputs": [],
   "source": [
    "data['classification'] = data['classification'].replace(to_replace={'ckd\\t': 'ckd', 'ckd': 'ckd', 'notckd': 'not ckd'})"
   ]
  },
  {
   "cell_type": "code",
   "execution_count": 80,
   "id": "b1f71458",
   "metadata": {},
   "outputs": [
    {
     "data": {
      "text/plain": [
       "ckd        250\n",
       "not ckd    150\n",
       "Name: classification, dtype: int64"
      ]
     },
     "execution_count": 80,
     "metadata": {},
     "output_type": "execute_result"
    }
   ],
   "source": [
    "data['classification'].value_counts()"
   ]
  },
  {
   "cell_type": "code",
   "execution_count": 81,
   "id": "a331c309",
   "metadata": {},
   "outputs": [
    {
     "data": {
      "text/plain": [
       "<AxesSubplot:xlabel='classification', ylabel='count'>"
      ]
     },
     "execution_count": 81,
     "metadata": {},
     "output_type": "execute_result"
    },
    {
     "data": {
      "image/png": "[encoded data removed]",
      "text/plain": [
       "<Figure size 432x288 with 1 Axes>"
      ]
     },
     "metadata": {
      "needs_background": "light"
     },
     "output_type": "display_data"
    }
   ],
   "source": [
    "sns.countplot(data['classification'])"
   ]
  },
  {
   "cell_type": "code",
   "execution_count": 88,
   "id": "aac2965f",
   "metadata": {},
   "outputs": [],
   "source": [
    "X = data.drop('classification', axis=1)\n",
    "Y = data['classification']"
   ]
  },
  {
   "cell_type": "code",
   "execution_count": 90,
   "id": "e9c8d45e",
   "metadata": {},
   "outputs": [
    {
     "data": {
      "text/plain": [
       "ckd        250\n",
       "not ckd    150\n",
       "Name: classification, dtype: int64"
      ]
     },
     "execution_count": 90,
     "metadata": {},
     "output_type": "execute_result"
    }
   ],
   "source": [
    "Y.value_counts()"
   ]
  },
  {
   "cell_type": "code",
   "execution_count": 91,
   "id": "3b2c83b8",
   "metadata": {},
   "outputs": [],
   "source": [
    "# split into train/val sets through eval ml\n",
    "X_train, X_test, Y_train, Y_test = evalml.preprocessing.split_data(X, \n",
    "                                                                   Y, \n",
    "                                                                   problem_type=\"binary\")"
   ]
  },
  {
   "cell_type": "code",
   "execution_count": 92,
   "id": "89096b2d",
   "metadata": {},
   "outputs": [],
   "source": [
    "# apply auto machine learning\n",
    "auto_ml_search = AutoMLSearch(X_train=X_train, \n",
    "                      y_train=Y_train, \n",
    "                      problem_type='binary')"
   ]
  },
  {
   "cell_type": "code",
   "execution_count": 93,
   "id": "e2cafac3",
   "metadata": {},
   "outputs": [
    {
     "data": {
      "text/plain": [
       "<evalml.automl.automl_search.AutoMLSearch at 0x1d14c94f7f0>"
      ]
     },
     "execution_count": 93,
     "metadata": {},
     "output_type": "execute_result"
    }
   ],
   "source": [
    "auto_ml_search"
   ]
  },
  {
   "cell_type": "code",
   "execution_count": 94,
   "id": "8ecf7cc3",
   "metadata": {},
   "outputs": [],
   "source": [
    "import warnings\n",
    "warnings.filterwarnings('ignore')"
   ]
  },
  {
   "cell_type": "code",
   "execution_count": 95,
   "id": "171fa9c1",
   "metadata": {},
   "outputs": [
    {
     "name": "stderr",
     "output_type": "stream",
     "text": [
      "\tHigh coefficient of variation (cv >= 0.5) within cross validation scores.\n",
      "\tDecision Tree Classifier w/ Label Encoder + Select Columns By Type Transformer + Label Encoder + Drop Columns Transformer + Imputer + Select Columns Transformer + Select Columns Transformer + Label Encoder + Imputer + One Hot Encoder may not perform as estimated on unseen data.\n"
     ]
    }
   ],
   "source": [
    "# search for best model pipelines\n",
    "auto_ml_search.search()"
   ]
  },
  {
   "cell_type": "code",
   "execution_count": 96,
   "id": "1c57d1c3",
   "metadata": {},
   "outputs": [
    {
     "data": {
      "text/html": [
       "<div>\n",
       "<style scoped>\n",
       "    .dataframe tbody tr th:only-of-type {\n",
       "        vertical-align: middle;\n",
       "    }\n",
       "\n",
       "    .dataframe tbody tr th {\n",
       "        vertical-align: top;\n",
       "    }\n",
       "\n",
       "    .dataframe thead th {\n",
       "        text-align: right;\n",
       "    }\n",
       "</style>\n",
       "<table border=\"1\" class=\"dataframe\">\n",
       "  <thead>\n",
       "    <tr style=\"text-align: right;\">\n",
       "      <th></th>\n",
       "      <th>id</th>\n",
       "      <th>pipeline_name</th>\n",
       "      <th>search_order</th>\n",
       "      <th>mean_cv_score</th>\n",
       "      <th>standard_deviation_cv_score</th>\n",
       "      <th>validation_score</th>\n",
       "      <th>percent_better_than_baseline</th>\n",
       "      <th>high_variance_cv</th>\n",
       "      <th>parameters</th>\n",
       "    </tr>\n",
       "  </thead>\n",
       "  <tbody>\n",
       "    <tr>\n",
       "      <th>0</th>\n",
       "      <td>1</td>\n",
       "      <td>Logistic Regression Classifier w/ Label Encode...</td>\n",
       "      <td>1</td>\n",
       "      <td>0.029896</td>\n",
       "      <td>0.010835</td>\n",
       "      <td>0.029896</td>\n",
       "      <td>99.769184</td>\n",
       "      <td>False</td>\n",
       "      <td>{'Label Encoder': {'positive_label': None}, 'D...</td>\n",
       "    </tr>\n",
       "    <tr>\n",
       "      <th>1</th>\n",
       "      <td>3</td>\n",
       "      <td>Logistic Regression Classifier w/ Label Encode...</td>\n",
       "      <td>3</td>\n",
       "      <td>0.031444</td>\n",
       "      <td>0.009665</td>\n",
       "      <td>0.031444</td>\n",
       "      <td>99.757231</td>\n",
       "      <td>False</td>\n",
       "      <td>{'Label Encoder': {'positive_label': None}, 'D...</td>\n",
       "    </tr>\n",
       "    <tr>\n",
       "      <th>2</th>\n",
       "      <td>6</td>\n",
       "      <td>LightGBM Classifier w/ Label Encoder + Select ...</td>\n",
       "      <td>6</td>\n",
       "      <td>0.032861</td>\n",
       "      <td>0.056732</td>\n",
       "      <td>0.032861</td>\n",
       "      <td>99.746295</td>\n",
       "      <td>False</td>\n",
       "      <td>{'Label Encoder': {'positive_label': None}, 'N...</td>\n",
       "    </tr>\n",
       "    <tr>\n",
       "      <th>3</th>\n",
       "      <td>10</td>\n",
       "      <td>XGBoost Classifier w/ Label Encoder + Select C...</td>\n",
       "      <td>10</td>\n",
       "      <td>0.037516</td>\n",
       "      <td>0.045206</td>\n",
       "      <td>0.037516</td>\n",
       "      <td>99.710354</td>\n",
       "      <td>False</td>\n",
       "      <td>{'Label Encoder': {'positive_label': None}, 'N...</td>\n",
       "    </tr>\n",
       "    <tr>\n",
       "      <th>4</th>\n",
       "      <td>4</td>\n",
       "      <td>Random Forest Classifier w/ Label Encoder + Dr...</td>\n",
       "      <td>4</td>\n",
       "      <td>0.038481</td>\n",
       "      <td>0.004923</td>\n",
       "      <td>0.038481</td>\n",
       "      <td>99.702904</td>\n",
       "      <td>False</td>\n",
       "      <td>{'Label Encoder': {'positive_label': None}, 'D...</td>\n",
       "    </tr>\n",
       "    <tr>\n",
       "      <th>5</th>\n",
       "      <td>8</td>\n",
       "      <td>Elastic Net Classifier w/ Label Encoder + Sele...</td>\n",
       "      <td>8</td>\n",
       "      <td>0.038602</td>\n",
       "      <td>0.009398</td>\n",
       "      <td>0.038602</td>\n",
       "      <td>99.701970</td>\n",
       "      <td>False</td>\n",
       "      <td>{'Label Encoder': {'positive_label': None}, 'N...</td>\n",
       "    </tr>\n",
       "    <tr>\n",
       "      <th>6</th>\n",
       "      <td>2</td>\n",
       "      <td>Random Forest Classifier w/ Label Encoder + Dr...</td>\n",
       "      <td>2</td>\n",
       "      <td>0.042879</td>\n",
       "      <td>0.003552</td>\n",
       "      <td>0.042879</td>\n",
       "      <td>99.668945</td>\n",
       "      <td>False</td>\n",
       "      <td>{'Label Encoder': {'positive_label': None}, 'D...</td>\n",
       "    </tr>\n",
       "    <tr>\n",
       "      <th>7</th>\n",
       "      <td>7</td>\n",
       "      <td>Extra Trees Classifier w/ Label Encoder + Sele...</td>\n",
       "      <td>7</td>\n",
       "      <td>0.095402</td>\n",
       "      <td>0.009042</td>\n",
       "      <td>0.095402</td>\n",
       "      <td>99.263432</td>\n",
       "      <td>False</td>\n",
       "      <td>{'Label Encoder': {'positive_label': None}, 'N...</td>\n",
       "    </tr>\n",
       "    <tr>\n",
       "      <th>8</th>\n",
       "      <td>9</td>\n",
       "      <td>CatBoost Classifier w/ Label Encoder + Select ...</td>\n",
       "      <td>9</td>\n",
       "      <td>0.333710</td>\n",
       "      <td>0.004714</td>\n",
       "      <td>0.333710</td>\n",
       "      <td>97.423547</td>\n",
       "      <td>False</td>\n",
       "      <td>{'Label Encoder': {'positive_label': None}, 'N...</td>\n",
       "    </tr>\n",
       "    <tr>\n",
       "      <th>9</th>\n",
       "      <td>5</td>\n",
       "      <td>Decision Tree Classifier w/ Label Encoder + Se...</td>\n",
       "      <td>5</td>\n",
       "      <td>0.660669</td>\n",
       "      <td>0.626067</td>\n",
       "      <td>0.660669</td>\n",
       "      <td>94.899216</td>\n",
       "      <td>True</td>\n",
       "      <td>{'Label Encoder': {'positive_label': None}, 'N...</td>\n",
       "    </tr>\n",
       "    <tr>\n",
       "      <th>10</th>\n",
       "      <td>0</td>\n",
       "      <td>Mode Baseline Binary Classification Pipeline</td>\n",
       "      <td>0</td>\n",
       "      <td>12.952295</td>\n",
       "      <td>0.070326</td>\n",
       "      <td>12.952295</td>\n",
       "      <td>0.000000</td>\n",
       "      <td>False</td>\n",
       "      <td>{'Label Encoder': {'positive_label': None}, 'B...</td>\n",
       "    </tr>\n",
       "  </tbody>\n",
       "</table>\n",
       "</div>"
      ],
      "text/plain": [
       "    id                                      pipeline_name  search_order  \\\n",
       "0    1  Logistic Regression Classifier w/ Label Encode...             1   \n",
       "1    3  Logistic Regression Classifier w/ Label Encode...             3   \n",
       "2    6  LightGBM Classifier w/ Label Encoder + Select ...             6   \n",
       "3   10  XGBoost Classifier w/ Label Encoder + Select C...            10   \n",
       "4    4  Random Forest Classifier w/ Label Encoder + Dr...             4   \n",
       "5    8  Elastic Net Classifier w/ Label Encoder + Sele...             8   \n",
       "6    2  Random Forest Classifier w/ Label Encoder + Dr...             2   \n",
       "7    7  Extra Trees Classifier w/ Label Encoder + Sele...             7   \n",
       "8    9  CatBoost Classifier w/ Label Encoder + Select ...             9   \n",
       "9    5  Decision Tree Classifier w/ Label Encoder + Se...             5   \n",
       "10   0       Mode Baseline Binary Classification Pipeline             0   \n",
       "\n",
       "    mean_cv_score  standard_deviation_cv_score  validation_score  \\\n",
       "0        0.029896                     0.010835          0.029896   \n",
       "1        0.031444                     0.009665          0.031444   \n",
       "2        0.032861                     0.056732          0.032861   \n",
       "3        0.037516                     0.045206          0.037516   \n",
       "4        0.038481                     0.004923          0.038481   \n",
       "5        0.038602                     0.009398          0.038602   \n",
       "6        0.042879                     0.003552          0.042879   \n",
       "7        0.095402                     0.009042          0.095402   \n",
       "8        0.333710                     0.004714          0.333710   \n",
       "9        0.660669                     0.626067          0.660669   \n",
       "10      12.952295                     0.070326         12.952295   \n",
       "\n",
       "    percent_better_than_baseline  high_variance_cv  \\\n",
       "0                      99.769184             False   \n",
       "1                      99.757231             False   \n",
       "2                      99.746295             False   \n",
       "3                      99.710354             False   \n",
       "4                      99.702904             False   \n",
       "5                      99.701970             False   \n",
       "6                      99.668945             False   \n",
       "7                      99.263432             False   \n",
       "8                      97.423547             False   \n",
       "9                      94.899216              True   \n",
       "10                      0.000000             False   \n",
       "\n",
       "                                           parameters  \n",
       "0   {'Label Encoder': {'positive_label': None}, 'D...  \n",
       "1   {'Label Encoder': {'positive_label': None}, 'D...  \n",
       "2   {'Label Encoder': {'positive_label': None}, 'N...  \n",
       "3   {'Label Encoder': {'positive_label': None}, 'N...  \n",
       "4   {'Label Encoder': {'positive_label': None}, 'D...  \n",
       "5   {'Label Encoder': {'positive_label': None}, 'N...  \n",
       "6   {'Label Encoder': {'positive_label': None}, 'D...  \n",
       "7   {'Label Encoder': {'positive_label': None}, 'N...  \n",
       "8   {'Label Encoder': {'positive_label': None}, 'N...  \n",
       "9   {'Label Encoder': {'positive_label': None}, 'N...  \n",
       "10  {'Label Encoder': {'positive_label': None}, 'B...  "
      ]
     },
     "execution_count": 96,
     "metadata": {},
     "output_type": "execute_result"
    }
   ],
   "source": [
    "auto_ml_search.rankings"
   ]
  },
  {
   "cell_type": "code",
   "execution_count": 97,
   "id": "cd0a50eb",
   "metadata": {},
   "outputs": [
    {
     "data": {
      "text/plain": [
       "pipeline = BinaryClassificationPipeline(component_graph={'Label Encoder': ['Label Encoder', 'X', 'y'], 'Drop Columns Transformer': ['Drop Columns Transformer', 'X', 'Label Encoder.y'], 'Imputer': ['Imputer', 'Drop Columns Transformer.x', 'Label Encoder.y'], 'One Hot Encoder': ['One Hot Encoder', 'Imputer.x', 'Label Encoder.y'], 'Standard Scaler': ['Standard Scaler', 'One Hot Encoder.x', 'Label Encoder.y'], 'Logistic Regression Classifier': ['Logistic Regression Classifier', 'Standard Scaler.x', 'Label Encoder.y']}, parameters={'Label Encoder':{'positive_label': None}, 'Drop Columns Transformer':{'columns': ['wc']}, 'Imputer':{'categorical_impute_strategy': 'most_frequent', 'numeric_impute_strategy': 'mean', 'categorical_fill_value': None, 'numeric_fill_value': None}, 'One Hot Encoder':{'top_n': 10, 'features_to_encode': None, 'categories': None, 'drop': 'if_binary', 'handle_unknown': 'ignore', 'handle_missing': 'error'}, 'Logistic Regression Classifier':{'penalty': 'l2', 'C': 1.0, 'n_jobs': -1, 'multi_class': 'auto', 'solver': 'lbfgs'}}, random_seed=0)"
      ]
     },
     "execution_count": 97,
     "metadata": {},
     "output_type": "execute_result"
    }
   ],
   "source": [
    "# get the best pipeline\n",
    "auto_ml_search.best_pipeline"
   ]
  },
  {
   "cell_type": "code",
   "execution_count": 98,
   "id": "bc851af3",
   "metadata": {},
   "outputs": [
    {
     "name": "stdout",
     "output_type": "stream",
     "text": [
      "\n",
      "****************************************************************************************************************************\n",
      "* Logistic Regression Classifier w/ Label Encoder + Drop Columns Transformer + Imputer + One Hot Encoder + Standard Scaler *\n",
      "****************************************************************************************************************************\n",
      "\n",
      "Problem Type: binary\n",
      "Model Family: Linear\n",
      "\n",
      "Pipeline Steps\n",
      "==============\n",
      "1. Label Encoder\n",
      "\t * positive_label : None\n",
      "2. Drop Columns Transformer\n",
      "\t * columns : ['wc']\n",
      "3. Imputer\n",
      "\t * categorical_impute_strategy : most_frequent\n",
      "\t * numeric_impute_strategy : mean\n",
      "\t * categorical_fill_value : None\n",
      "\t * numeric_fill_value : None\n",
      "4. One Hot Encoder\n",
      "\t * top_n : 10\n",
      "\t * features_to_encode : None\n",
      "\t * categories : None\n",
      "\t * drop : if_binary\n",
      "\t * handle_unknown : ignore\n",
      "\t * handle_missing : error\n",
      "5. Standard Scaler\n",
      "6. Logistic Regression Classifier\n",
      "\t * penalty : l2\n",
      "\t * C : 1.0\n",
      "\t * n_jobs : -1\n",
      "\t * multi_class : auto\n",
      "\t * solver : lbfgs\n",
      "\n",
      "Training\n",
      "========\n",
      "Training for binary problems.\n",
      "Total training time (including CV): 11.0 seconds\n",
      "\n",
      "Cross Validation\n",
      "----------------\n",
      "             Log Loss Binary  MCC Binary  Gini   AUC  Precision    F1  Balanced Accuracy Binary  Accuracy Binary # Training # Validation\n",
      "0                      0.025       1.000 1.000 1.000      1.000 1.000                     1.000            1.000        213          107\n",
      "1                      0.022       0.980 1.000 1.000      1.000 0.987                     0.988            0.991        213          107\n",
      "2                      0.042       1.000 1.000 1.000      1.000 1.000                     1.000            1.000        214          106\n",
      "mean                   0.030       0.993 1.000 1.000      1.000 0.996                     0.996            0.997          -            -\n",
      "std                    0.011       0.011 0.000 0.000      0.000 0.007                     0.007            0.005          -            -\n",
      "coef of var            0.362       0.012 0.000 0.000      0.000 0.007                     0.007            0.005          -            -\n"
     ]
    }
   ],
   "source": [
    "# describe briefly the best pipeline\n",
    "auto_ml_search.describe_pipeline(auto_ml_search.rankings.iloc[0]['id'])"
   ]
  },
  {
   "cell_type": "code",
   "execution_count": 99,
   "id": "ff6d879d",
   "metadata": {},
   "outputs": [],
   "source": [
    "best_pipeline = auto_ml_search.best_pipeline\n",
    "# best_pipeline"
   ]
  },
  {
   "cell_type": "code",
   "execution_count": 100,
   "id": "af1e180a",
   "metadata": {},
   "outputs": [
    {
     "data": {
      "text/plain": [
       "OrderedDict([('AUC', 1.0),\n",
       "             ('F1', 0.983050847457627),\n",
       "             ('Precision', 1.0),\n",
       "             ('Recall', 0.9666666666666667)])"
      ]
     },
     "execution_count": 100,
     "metadata": {},
     "output_type": "execute_result"
    }
   ],
   "source": [
    "# evaluation of machine learning model on validation/test dataset\n",
    "best_pipeline.score(X_test, Y_test, objectives=['auc', 'f1', 'Precision', 'Recall'])"
   ]
  },
  {
   "cell_type": "markdown",
   "id": "b22eaebe",
   "metadata": {},
   "source": [
    "- After applying automated machine learning (AutoML) on kidney dataset, we have now arrived at a point where we have calculated the best model pipeline that gives us the maximum accuracy (99.9%) on testing dataset\n",
    "\n",
    "- By applying AutoML, we don't need to calculate or manualy go through data preprocessing steps like feature engineering, extraction, selection, imputation, etc., the Eval ML library will find the best pipeline for us automatically. \n",
    "\n",
    "- The best model that we have found is the Gradient Boosting Machine (Light GBM), following the data preprocessing steps."
   ]
  },
  {
   "cell_type": "code",
   "execution_count": 39,
   "id": "96945352",
   "metadata": {},
   "outputs": [
    {
     "name": "stdout",
     "output_type": "stream",
     "text": [
      "Time Taken: 0.018 seconds\n"
     ]
    }
   ],
   "source": [
    "# search best model pipeline for a specific set of targets\n",
    "import time\n",
    "start = time.time()\n",
    "\n",
    "advanced_search = AutoMLSearch(X_train=X_train, \n",
    "                      y_train=Y_train, \n",
    "                      problem_type='binary',\n",
    "                      objective='precision',\n",
    "                      additional_objectives = ['f1'],\n",
    "                      optimize_thresholds=True,\n",
    "                      max_batches=1)\n",
    "end = time.time()\n",
    "print('Time Taken: %.3f seconds' % (end-start))"
   ]
  },
  {
   "cell_type": "code",
   "execution_count": 38,
   "id": "da05d59e",
   "metadata": {},
   "outputs": [],
   "source": [
    "# evalml.objectives.utils.get_core_objective_names()"
   ]
  },
  {
   "cell_type": "code",
   "execution_count": 30,
   "id": "1d2d92e9",
   "metadata": {},
   "outputs": [],
   "source": [
    "# apply search\n",
    "advanced_search.search()"
   ]
  },
  {
   "cell_type": "code",
   "execution_count": 32,
   "id": "bb36c456",
   "metadata": {},
   "outputs": [],
   "source": [
    "# get the best pipeline\n",
    "best_pipe = advanced_search.best_pipeline"
   ]
  },
  {
   "cell_type": "code",
   "execution_count": 33,
   "id": "b495f6b9",
   "metadata": {},
   "outputs": [
    {
     "name": "stdout",
     "output_type": "stream",
     "text": [
      "\n",
      "*******************************************************\n",
      "* Random Forest Classifier w/ Label Encoder + Imputer *\n",
      "*******************************************************\n",
      "\n",
      "Problem Type: binary\n",
      "Model Family: Random Forest\n",
      "\n",
      "Pipeline Steps\n",
      "==============\n",
      "1. Label Encoder\n",
      "\t * positive_label : None\n",
      "2. Imputer\n",
      "\t * categorical_impute_strategy : most_frequent\n",
      "\t * numeric_impute_strategy : mean\n",
      "\t * categorical_fill_value : None\n",
      "\t * numeric_fill_value : None\n",
      "3. Random Forest Classifier\n",
      "\t * n_estimators : 100\n",
      "\t * max_depth : 6\n",
      "\t * n_jobs : -1\n",
      "\n",
      "Training\n",
      "========\n",
      "Training for binary problems.\n",
      "Objective to optimize binary classification pipeline thresholds for: <evalml.objectives.standard_metrics.Precision object at 0x000001D14786A9A0>\n",
      "Total training time (including CV): 2.9 seconds\n",
      "\n",
      "Cross Validation\n",
      "----------------\n",
      "             Precision    F1 # Training # Validation\n",
      "0                1.000 0.857        213          107\n",
      "1                1.000 0.904        213          107\n",
      "2                1.000 0.873        214          106\n",
      "mean             1.000 0.878          -            -\n",
      "std              0.000 0.024          -            -\n",
      "coef of var      0.000 0.027          -            -\n"
     ]
    }
   ],
   "source": [
    "advanced_search.describe_pipeline(advanced_search.rankings.iloc[0]['id'])"
   ]
  },
  {
   "cell_type": "code",
   "execution_count": 40,
   "id": "f277ff93",
   "metadata": {},
   "outputs": [
    {
     "data": {
      "text/plain": [
       "OrderedDict([('AUC', 0.998),\n",
       "             ('Precision', 1.0),\n",
       "             ('Recall', 0.6666666666666666),\n",
       "             ('F1', 0.8)])"
      ]
     },
     "execution_count": 40,
     "metadata": {},
     "output_type": "execute_result"
    }
   ],
   "source": [
    "# evaluation on validation dataset\n",
    "best_pipe.score(X_test, Y_test, objectives=['auc', 'precision', 'recall', 'f1'])"
   ]
  },
  {
   "cell_type": "markdown",
   "id": "e5e4a8b3",
   "metadata": {},
   "source": [
    "## Conclusion\n",
    "After applying AutoML library, we have found that the first model was perfect in which we had following results:\n",
    "- AUC score was 99.9%\n",
    "- Precision was 99.9%\n",
    "- F1 Score was 98%\n",
    "- Recall was 96.6%\n",
    "\n",
    "<br>Besides this, we have also calculated the best pipeline suited for our dataset. We have made an end-to-end machine learning model for predicting chronic kideny disease prediction. "
   ]
  },
  {
   "cell_type": "code",
   "execution_count": 101,
   "id": "53bd900e",
   "metadata": {},
   "outputs": [],
   "source": [
    "best_model = best_pipeline.save('kideny.pkl')"
   ]
  },
  {
   "cell_type": "code",
   "execution_count": 103,
   "id": "92766b3e",
   "metadata": {},
   "outputs": [],
   "source": [
    "model = best_pipeline.load('kideny.pkl')"
   ]
  },
  {
   "cell_type": "code",
   "execution_count": 104,
   "id": "fa5eebe1",
   "metadata": {},
   "outputs": [],
   "source": [
    "predictions = model.predict(X_test)"
   ]
  },
  {
   "cell_type": "code",
   "execution_count": 105,
   "id": "e7337eb1",
   "metadata": {},
   "outputs": [
    {
     "data": {
      "text/plain": [
       "364    not ckd\n",
       "396    not ckd\n",
       "338    not ckd\n",
       "88         ckd\n",
       "67         ckd\n",
       "268    not ckd\n",
       "Name: classification, dtype: category\n",
       "Categories (2, object): ['ckd', 'not ckd']"
      ]
     },
     "execution_count": 105,
     "metadata": {},
     "output_type": "execute_result"
    }
   ],
   "source": [
    "predictions[:6]"
   ]
  },
  {
   "cell_type": "code",
   "execution_count": 46,
   "id": "725219c7",
   "metadata": {},
   "outputs": [
    {
     "name": "stdout",
     "output_type": "stream",
     "text": [
      "0 No Disease\n",
      "1 Disease\n"
     ]
    }
   ],
   "source": [
    "label = {0:'No Disease', 1: 'Disease'}\n",
    "for i in label.keys():\n",
    "    print(i, label[i])"
   ]
  },
  {
   "cell_type": "code",
   "execution_count": 51,
   "id": "2879f67f",
   "metadata": {},
   "outputs": [],
   "source": [
    "Y = Y.map(label)"
   ]
  },
  {
   "cell_type": "code",
   "execution_count": 54,
   "id": "10780888",
   "metadata": {},
   "outputs": [],
   "source": [
    "from sklearn.preprocessing import LabelEncoder"
   ]
  },
  {
   "cell_type": "code",
   "execution_count": 56,
   "id": "2c321f98",
   "metadata": {},
   "outputs": [
    {
     "data": {
      "text/plain": [
       "LabelEncoder()"
      ]
     },
     "execution_count": 56,
     "metadata": {},
     "output_type": "execute_result"
    }
   ],
   "source": [
    "LabelEncoder()"
   ]
  },
  {
   "cell_type": "code",
   "execution_count": null,
   "id": "25a19cc6",
   "metadata": {},
   "outputs": [],
   "source": []
  }
 ],
 "metadata": {
  "kernelspec": {
   "display_name": "Python 3 (ipykernel)",
   "language": "python",
   "name": "python3"
  },
  "language_info": {
   "codemirror_mode": {
    "name": "ipython",
    "version": 3
   },
   "file_extension": ".py",
   "mimetype": "text/x-python",
   "name": "python",
   "nbconvert_exporter": "python",
   "pygments_lexer": "ipython3",
   "version": "3.9.12"
  }
 },
 "nbformat": 4,
 "nbformat_minor": 5
}
